{
  "nbformat": 4,
  "nbformat_minor": 5,
  "metadata": {
    "kernelspec": {
      "name": "python3",
      "display_name": "Python 3"
    },
    "colab": {
      "name": "02_Spectral_variations_using_EMLP_.ipynb",
      "provenance": [],
      "include_colab_link": true
    },
    "language_info": {
      "name": "python"
    },
    "widgets": {
      "application/vnd.jupyter.widget-state+json": {
        "df0be905b4f2422cacebcb51f05aff3a": {
          "model_module": "@jupyter-widgets/controls",
          "model_name": "HBoxModel",
          "model_module_version": "1.5.0",
          "state": {
            "_view_name": "HBoxView",
            "_dom_classes": [],
            "_model_name": "HBoxModel",
            "_view_module": "@jupyter-widgets/controls",
            "_model_module_version": "1.5.0",
            "_view_count": null,
            "_view_module_version": "1.5.0",
            "box_style": "",
            "layout": "IPY_MODEL_06fa1b0eb3dd4dd8bd4c2bafc2af1bb2",
            "_model_module": "@jupyter-widgets/controls",
            "children": [
              "IPY_MODEL_49b7ee01e50e4716a0510e93d2a8bb68",
              "IPY_MODEL_0e08f87c249c4dfaadc58ccda880e97d",
              "IPY_MODEL_1d1d777ba4f548b2aafca5e5a6b83021"
            ]
          }
        },
        "06fa1b0eb3dd4dd8bd4c2bafc2af1bb2": {
          "model_module": "@jupyter-widgets/base",
          "model_name": "LayoutModel",
          "model_module_version": "1.2.0",
          "state": {
            "_view_name": "LayoutView",
            "grid_template_rows": null,
            "right": null,
            "justify_content": null,
            "_view_module": "@jupyter-widgets/base",
            "overflow": null,
            "_model_module_version": "1.2.0",
            "_view_count": null,
            "flex_flow": null,
            "width": null,
            "min_width": null,
            "border": null,
            "align_items": null,
            "bottom": null,
            "_model_module": "@jupyter-widgets/base",
            "top": null,
            "grid_column": null,
            "overflow_y": null,
            "overflow_x": null,
            "grid_auto_flow": null,
            "grid_area": null,
            "grid_template_columns": null,
            "flex": null,
            "_model_name": "LayoutModel",
            "justify_items": null,
            "grid_row": null,
            "max_height": null,
            "align_content": null,
            "visibility": null,
            "align_self": null,
            "height": null,
            "min_height": null,
            "padding": null,
            "grid_auto_rows": null,
            "grid_gap": null,
            "max_width": null,
            "order": null,
            "_view_module_version": "1.2.0",
            "grid_template_areas": null,
            "object_position": null,
            "object_fit": null,
            "grid_auto_columns": null,
            "margin": null,
            "display": null,
            "left": null
          }
        },
        "49b7ee01e50e4716a0510e93d2a8bb68": {
          "model_module": "@jupyter-widgets/controls",
          "model_name": "HTMLModel",
          "model_module_version": "1.5.0",
          "state": {
            "_view_name": "HTMLView",
            "style": "IPY_MODEL_12f4c897fa1747ffaa4b2b537ce8f3d6",
            "_dom_classes": [],
            "description": "",
            "_model_name": "HTMLModel",
            "placeholder": "​",
            "_view_module": "@jupyter-widgets/controls",
            "_model_module_version": "1.5.0",
            "value": "100%",
            "_view_count": null,
            "_view_module_version": "1.5.0",
            "description_tooltip": null,
            "_model_module": "@jupyter-widgets/controls",
            "layout": "IPY_MODEL_76478f2933654b679440e517ffb44d53"
          }
        },
        "0e08f87c249c4dfaadc58ccda880e97d": {
          "model_module": "@jupyter-widgets/controls",
          "model_name": "FloatProgressModel",
          "model_module_version": "1.5.0",
          "state": {
            "_view_name": "ProgressView",
            "style": "IPY_MODEL_92d3e32539b647919c098710e05aa013",
            "_dom_classes": [],
            "description": "",
            "_model_name": "FloatProgressModel",
            "bar_style": "success",
            "max": 1000,
            "_view_module": "@jupyter-widgets/controls",
            "_model_module_version": "1.5.0",
            "value": 1000,
            "_view_count": null,
            "_view_module_version": "1.5.0",
            "orientation": "horizontal",
            "min": 0,
            "description_tooltip": null,
            "_model_module": "@jupyter-widgets/controls",
            "layout": "IPY_MODEL_49e9d8755b984f499b2644c23c4c9871"
          }
        },
        "1d1d777ba4f548b2aafca5e5a6b83021": {
          "model_module": "@jupyter-widgets/controls",
          "model_name": "HTMLModel",
          "model_module_version": "1.5.0",
          "state": {
            "_view_name": "HTMLView",
            "style": "IPY_MODEL_354e4082236847a8b8a1e65f184651d5",
            "_dom_classes": [],
            "description": "",
            "_model_name": "HTMLModel",
            "placeholder": "​",
            "_view_module": "@jupyter-widgets/controls",
            "_model_module_version": "1.5.0",
            "value": " 1000/1000 [01:14&lt;00:00, 14.11it/s]",
            "_view_count": null,
            "_view_module_version": "1.5.0",
            "description_tooltip": null,
            "_model_module": "@jupyter-widgets/controls",
            "layout": "IPY_MODEL_84c017f30f9c4f86b9bf6ee7f50d4f92"
          }
        },
        "12f4c897fa1747ffaa4b2b537ce8f3d6": {
          "model_module": "@jupyter-widgets/controls",
          "model_name": "DescriptionStyleModel",
          "model_module_version": "1.5.0",
          "state": {
            "_view_name": "StyleView",
            "_model_name": "DescriptionStyleModel",
            "description_width": "",
            "_view_module": "@jupyter-widgets/base",
            "_model_module_version": "1.5.0",
            "_view_count": null,
            "_view_module_version": "1.2.0",
            "_model_module": "@jupyter-widgets/controls"
          }
        },
        "76478f2933654b679440e517ffb44d53": {
          "model_module": "@jupyter-widgets/base",
          "model_name": "LayoutModel",
          "model_module_version": "1.2.0",
          "state": {
            "_view_name": "LayoutView",
            "grid_template_rows": null,
            "right": null,
            "justify_content": null,
            "_view_module": "@jupyter-widgets/base",
            "overflow": null,
            "_model_module_version": "1.2.0",
            "_view_count": null,
            "flex_flow": null,
            "width": null,
            "min_width": null,
            "border": null,
            "align_items": null,
            "bottom": null,
            "_model_module": "@jupyter-widgets/base",
            "top": null,
            "grid_column": null,
            "overflow_y": null,
            "overflow_x": null,
            "grid_auto_flow": null,
            "grid_area": null,
            "grid_template_columns": null,
            "flex": null,
            "_model_name": "LayoutModel",
            "justify_items": null,
            "grid_row": null,
            "max_height": null,
            "align_content": null,
            "visibility": null,
            "align_self": null,
            "height": null,
            "min_height": null,
            "padding": null,
            "grid_auto_rows": null,
            "grid_gap": null,
            "max_width": null,
            "order": null,
            "_view_module_version": "1.2.0",
            "grid_template_areas": null,
            "object_position": null,
            "object_fit": null,
            "grid_auto_columns": null,
            "margin": null,
            "display": null,
            "left": null
          }
        },
        "92d3e32539b647919c098710e05aa013": {
          "model_module": "@jupyter-widgets/controls",
          "model_name": "ProgressStyleModel",
          "model_module_version": "1.5.0",
          "state": {
            "_view_name": "StyleView",
            "_model_name": "ProgressStyleModel",
            "description_width": "",
            "_view_module": "@jupyter-widgets/base",
            "_model_module_version": "1.5.0",
            "_view_count": null,
            "_view_module_version": "1.2.0",
            "bar_color": null,
            "_model_module": "@jupyter-widgets/controls"
          }
        },
        "49e9d8755b984f499b2644c23c4c9871": {
          "model_module": "@jupyter-widgets/base",
          "model_name": "LayoutModel",
          "model_module_version": "1.2.0",
          "state": {
            "_view_name": "LayoutView",
            "grid_template_rows": null,
            "right": null,
            "justify_content": null,
            "_view_module": "@jupyter-widgets/base",
            "overflow": null,
            "_model_module_version": "1.2.0",
            "_view_count": null,
            "flex_flow": null,
            "width": null,
            "min_width": null,
            "border": null,
            "align_items": null,
            "bottom": null,
            "_model_module": "@jupyter-widgets/base",
            "top": null,
            "grid_column": null,
            "overflow_y": null,
            "overflow_x": null,
            "grid_auto_flow": null,
            "grid_area": null,
            "grid_template_columns": null,
            "flex": null,
            "_model_name": "LayoutModel",
            "justify_items": null,
            "grid_row": null,
            "max_height": null,
            "align_content": null,
            "visibility": null,
            "align_self": null,
            "height": null,
            "min_height": null,
            "padding": null,
            "grid_auto_rows": null,
            "grid_gap": null,
            "max_width": null,
            "order": null,
            "_view_module_version": "1.2.0",
            "grid_template_areas": null,
            "object_position": null,
            "object_fit": null,
            "grid_auto_columns": null,
            "margin": null,
            "display": null,
            "left": null
          }
        },
        "354e4082236847a8b8a1e65f184651d5": {
          "model_module": "@jupyter-widgets/controls",
          "model_name": "DescriptionStyleModel",
          "model_module_version": "1.5.0",
          "state": {
            "_view_name": "StyleView",
            "_model_name": "DescriptionStyleModel",
            "description_width": "",
            "_view_module": "@jupyter-widgets/base",
            "_model_module_version": "1.5.0",
            "_view_count": null,
            "_view_module_version": "1.2.0",
            "_model_module": "@jupyter-widgets/controls"
          }
        },
        "84c017f30f9c4f86b9bf6ee7f50d4f92": {
          "model_module": "@jupyter-widgets/base",
          "model_name": "LayoutModel",
          "model_module_version": "1.2.0",
          "state": {
            "_view_name": "LayoutView",
            "grid_template_rows": null,
            "right": null,
            "justify_content": null,
            "_view_module": "@jupyter-widgets/base",
            "overflow": null,
            "_model_module_version": "1.2.0",
            "_view_count": null,
            "flex_flow": null,
            "width": null,
            "min_width": null,
            "border": null,
            "align_items": null,
            "bottom": null,
            "_model_module": "@jupyter-widgets/base",
            "top": null,
            "grid_column": null,
            "overflow_y": null,
            "overflow_x": null,
            "grid_auto_flow": null,
            "grid_area": null,
            "grid_template_columns": null,
            "flex": null,
            "_model_name": "LayoutModel",
            "justify_items": null,
            "grid_row": null,
            "max_height": null,
            "align_content": null,
            "visibility": null,
            "align_self": null,
            "height": null,
            "min_height": null,
            "padding": null,
            "grid_auto_rows": null,
            "grid_gap": null,
            "max_width": null,
            "order": null,
            "_view_module_version": "1.2.0",
            "grid_template_areas": null,
            "object_position": null,
            "object_fit": null,
            "grid_auto_columns": null,
            "margin": null,
            "display": null,
            "left": null
          }
        }
      }
    }
  },
  "cells": [
    {
      "cell_type": "markdown",
      "metadata": {
        "id": "view-in-github",
        "colab_type": "text"
      },
      "source": [
        "<a href=\"https://colab.research.google.com/github/kiranvad/equivariant-MLP/blob/master/examples/01-gaussians.ipynb\" target=\"_parent\"><img src=\"https://colab.research.google.com/assets/colab-badge.svg\" alt=\"Open In Colab\"/></a>"
      ]
    },
    {
      "cell_type": "code",
      "metadata": {
        "id": "a3cdd38f",
        "outputId": "8b38b563-8495-43d5-9eb5-038aa52af2d6",
        "colab": {
          "base_uri": "https://localhost:8080/"
        }
      },
      "source": [
        "%pip --quiet install git+https://github.com/mfinzi/equivariant-MLP.git\n",
        "%pip --quiet install git+https://github.com/kiranvad/spectroscopy.git\n",
        "%pip --quiet install git+https://github.com/kiranvad/olive-oil-ml.git"
      ],
      "id": "a3cdd38f",
      "execution_count": 1,
      "outputs": [
        {
          "output_type": "stream",
          "name": "stdout",
          "text": [
            "\u001b[K     |████████████████████████████████| 50 kB 4.1 MB/s \n",
            "\u001b[K     |████████████████████████████████| 47 kB 4.7 MB/s \n",
            "\u001b[?25h  Installing build dependencies ... \u001b[?25l\u001b[?25hdone\n",
            "  Getting requirements to build wheel ... \u001b[?25l\u001b[?25hdone\n",
            "    Preparing wheel metadata ... \u001b[?25l\u001b[?25hdone\n",
            "\u001b[K     |████████████████████████████████| 118 kB 18.7 MB/s \n",
            "\u001b[K     |████████████████████████████████| 57 kB 5.2 MB/s \n",
            "\u001b[?25h  Building wheel for emlp (setup.py) ... \u001b[?25l\u001b[?25hdone\n",
            "  Building wheel for objax (setup.py) ... \u001b[?25l\u001b[?25hdone\n",
            "  Building wheel for plum-dispatch (PEP 517) ... \u001b[?25l\u001b[?25hdone\n",
            "\u001b[K     |████████████████████████████████| 280 kB 8.6 MB/s \n",
            "\u001b[K     |████████████████████████████████| 1.8 MB 47.4 MB/s \n",
            "\u001b[K     |████████████████████████████████| 59 kB 7.3 MB/s \n",
            "\u001b[K     |████████████████████████████████| 523 kB 58.2 MB/s \n",
            "\u001b[K     |████████████████████████████████| 4.0 MB 42.7 MB/s \n",
            "\u001b[?25h  Installing build dependencies ... \u001b[?25l\u001b[?25hdone\n",
            "  Getting requirements to build wheel ... \u001b[?25l\u001b[?25hdone\n",
            "    Preparing wheel metadata ... \u001b[?25l\u001b[?25hdone\n",
            "\u001b[K     |████████████████████████████████| 959 kB 39.0 MB/s \n",
            "\u001b[K     |████████████████████████████████| 71 kB 8.9 MB/s \n",
            "\u001b[?25h  Building wheel for spectroscopy (setup.py) ... \u001b[?25l\u001b[?25hdone\n",
            "  Building wheel for fdasrsf (PEP 517) ... \u001b[?25l\u001b[?25hdone\n",
            "  Building wheel for findiff (setup.py) ... \u001b[?25l\u001b[?25hdone\n",
            "  Building wheel for GPy (setup.py) ... \u001b[?25l\u001b[?25hdone\n",
            "  Building wheel for paramz (setup.py) ... \u001b[?25l\u001b[?25hdone\n",
            "  Building wheel for olive-oil-ml (setup.py) ... \u001b[?25l\u001b[?25hdone\n",
            "  Building wheel for torchcontrib (setup.py) ... \u001b[?25l\u001b[?25hdone\n"
          ]
        }
      ]
    },
    {
      "cell_type": "code",
      "metadata": {
        "id": "9c00640a",
        "outputId": "853fdf1b-9ede-4132-9902-5b153bf4e430",
        "colab": {
          "base_uri": "https://localhost:8080/"
        }
      },
      "source": [
        "import numpy as np\n",
        "import pdb\n",
        "\n",
        "from emlp.reps import V\n",
        "from emlp.groups import Group, SO, Scaling, I\n",
        "from emlp.nn import EMLP, MLP\n",
        "\n",
        "import jax.numpy as jnp\n",
        "import objax\n",
        "from oil.datasetup.datasets import split_dataset\n",
        "from torch.utils.data import DataLoader\n",
        "\n",
        "from tqdm.auto import tqdm\n",
        "import matplotlib.pyplot as plt\n",
        "\n",
        "import spectroscopy as ss"
      ],
      "id": "9c00640a",
      "execution_count": 2,
      "outputs": [
        {
          "output_type": "stream",
          "name": "stderr",
          "text": [
            "WARNING:absl:No GPU/TPU found, falling back to CPU. (Set TF_CPP_MIN_LOG_LEVEL=0 and rerun for more info.)\n",
            " /usr/local/lib/python3.7/dist-packages/numba/np/ufunc/parallel.py:363: NumbaWarning:The TBB threading layer requires TBB version 2019.5 or later i.e., TBB_INTERFACE_VERSION >= 11005. Found TBB_INTERFACE_VERSION = 9107. The TBB threading layer is disabled.\n"
          ]
        }
      ]
    },
    {
      "cell_type": "code",
      "metadata": {
        "id": "3800390a"
      },
      "source": [
        "# set up hyper-parameters\n",
        "BATCH_SIZE = 128\n",
        "ALPHA=3e-3\n",
        "NUM_EPOCHS=1000\n",
        "ND = 3000"
      ],
      "id": "3800390a",
      "execution_count": 37,
      "outputs": []
    },
    {
      "cell_type": "code",
      "metadata": {
        "id": "8fd7af5a"
      },
      "source": [
        "class Gaussians:\n",
        "    def __init__(self, N=1000):\n",
        "        self.N = N\n",
        "        self.grid_points = np.linspace(0,1,num=100)\n",
        "        self.Y = np.random.rand(self.N,3)\n",
        "        self.X = np.array([self.gaussian(self.grid_points, a, b, c) for (a,b,c) in self.Y])\n",
        "    \n",
        "    def gaussian(self, x, a, b,c):\n",
        "        return a*np.exp(-np.power(x - b, 2.) / (2 * np.power(c, 2.)))\n",
        "\n",
        "    def generate(self, a,b,c):\n",
        "        x0 = self.grid_points\n",
        "        x1 = self.gaussian(x0, a, b, c)\n",
        "        x2 = np.ones(100)\n",
        "        \n",
        "        return np.vstack((x0,x1,x2)).T.flatten()\n",
        "    \n",
        "    def __getitem__(self, i):\n",
        "        pos = np.vstack((self.grid_points, self.X[i,:], np.ones(100))).T.flatten()\n",
        "        label = self.Y[i,:]\n",
        "        return pos, label\n",
        "    \n",
        "    def __len__(self):\n",
        "        return len(self.Y)\n",
        "    \n",
        "datasets = split_dataset(Gaussians(N=ND),splits={'train':-1,'test':0.2, 'val':0.1})\n",
        "dataloaders = {k:DataLoader(v,batch_size=min(BATCH_SIZE,len(v)),shuffle=(k=='train'),\n",
        "            num_workers=0,pin_memory=False) for k,v in datasets.items()}"
      ],
      "id": "8fd7af5a",
      "execution_count": 38,
      "outputs": []
    },
    {
      "cell_type": "code",
      "metadata": {
        "colab": {
          "base_uri": "https://localhost:8080/",
          "height": 356
        },
        "id": "9d3cc742",
        "outputId": "37deeefa-87a7-488e-c6d0-37f938d3a627"
      },
      "source": [
        "class SE3(Group):\n",
        "    def __init__(self,n):\n",
        "        \"\"\"Special Eulcidean Group in 3 dimensions\n",
        "        \"\"\"\n",
        "        assert n==3, 'This is only for SE(3) not %d'%n\n",
        "        self.lie_algebra = np.zeros((3,3,3)) \n",
        "        self.lie_algebra[0,...] = SO(n).lie_algebra[0,...]\n",
        "        self.lie_algebra[1,...] = np.array([[0,0,1],[0,0,0],[0,0,0]])\n",
        "        self.lie_algebra[2,...] = np.array([[0,0,0],[0,0,1],[0,0,0]])\n",
        "        super().__init__(n)\n",
        "\n",
        "class T2(Group):\n",
        "  def __init__(self, n=2):\n",
        "    \"\"\"Translation group in two-dimensions\n",
        "    \"\"\"\n",
        "    assert n==2, 'This is only for T(2) not %d'%n\n",
        "    self.lie_algebra = np.zeros((2,3,3))\n",
        "    self.lie_algebra[0,...] = np.array([[0,0,1],[0,0,0],[0,0,0]])\n",
        "    self.lie_algebra[1,...] = np.array([[0,0,0],[0,0,1],[0,0,0]])\n",
        "    super().__init__(n)\n",
        "\n",
        "G = T2(2)\n",
        "#G = SE3(3)\n",
        "g = G.sample()\n",
        "v, label = next(iter(dataloaders['train']))\n",
        "v = jnp.asarray(v[0,...]).reshape(100,3)\n",
        "label = label[0]\n",
        "rep_in = 100*V**1\n",
        "\n",
        "rho_v = rep_in(G).rho_dense(g)@v.flatten()\n",
        "rho_v = rho_v.reshape(v.shape)\n",
        "\n",
        "fig, axs = plt.subplots(1,2,figsize=(5*2,5))\n",
        "axs[0].plot(v[:,0],v[:,1], label='original')\n",
        "axs[0].set_title('Original')\n",
        "axs[1].plot(rho_v[:,0], rho_v[:,1], label='transformed')\n",
        "axs[1].set_title('Transformed')\n",
        "fig.suptitle(','.join('%.2f'%(i) for i in label.numpy()))\n",
        "plt.show()"
      ],
      "id": "9d3cc742",
      "execution_count": 39,
      "outputs": [
        {
          "output_type": "display_data",
          "data": {
            "image/png": "[encoded data removed]",
            "text/plain": [
              "<Figure size 720x360 with 2 Axes>"
            ]
          },
          "metadata": {
            "needs_background": "light"
          }
        }
      ]
    },
    {
      "cell_type": "code",
      "metadata": {
        "id": "8c56be56"
      },
      "source": [
        "rep_out = 3*V**0\n",
        "#model = EMLP(rep_in,rep_out,group=G,num_layers=1, ch=32)\n",
        "model = MLP(rep_in,rep_out,group=G,num_layers=1, ch=32)"
      ],
      "id": "8c56be56",
      "execution_count": 40,
      "outputs": []
    },
    {
      "cell_type": "code",
      "metadata": {
        "colab": {
          "base_uri": "https://localhost:8080/"
        },
        "id": "AriQ5_xg0jNq",
        "outputId": "eb4402ba-1542-444f-adca-d76ca910e007"
      },
      "source": [
        "# evaluate the model in its random initial stage\n",
        "def evaluate(model):\n",
        "  p0 = dataloaders['train'].dataset.generate(1,0.3,0.1)\n",
        "  pt = dataloaders['train'].dataset.generate(1,0.5,0.1)\n",
        "  print('Predictions for \\np0 : ', model(jnp.asarray(p0)), '\\npt : ', model(jnp.asarray(pt)))\n",
        "\n",
        "print('Random state model predictions: ...\\n')\n",
        "evaluate(model)"
      ],
      "id": "AriQ5_xg0jNq",
      "execution_count": 41,
      "outputs": [
        {
          "output_type": "stream",
          "name": "stdout",
          "text": [
            "Random state model predictions: ...\n",
            "\n",
            "Predictions for \n",
            "p0 :  [ 0.3290977  -0.14670695 -0.27144933] \n",
            "pt :  [ 0.15227571 -0.20665872 -0.27603748]\n"
          ]
        }
      ]
    },
    {
      "cell_type": "code",
      "metadata": {
        "id": "28a59618"
      },
      "source": [
        "import jax\n",
        "from objax.functional import softmax\n",
        "\n",
        "\n",
        "@objax.Jit\n",
        "@objax.Function.with_vars(model.vars())\n",
        "def cross_entropy(x,y):\n",
        "    \"\"\" Standard cross-entropy loss \"\"\"\n",
        "    logits = model(x,training=True)\n",
        "    logp = jax.nn.log_softmax(logits)\n",
        "    ll = jnp.take_along_axis(logp, jnp.expand_dims(y, axis=1), axis=1)\n",
        "    ce = -jnp.mean(ll)\n",
        "    return ce\n",
        "\n",
        "@objax.Jit\n",
        "@objax.Function.with_vars(model.vars())\n",
        "def mean_square(x, y):\n",
        "    yhat = model(x)\n",
        "    return ((yhat-y)**2).mean()\n",
        "\n",
        "\n",
        "loss = lambda x,y : mean_square(x,y)\n",
        "\n",
        "opt = objax.optimizer.Adam(model.vars())\n",
        "\n",
        "grad_and_val = objax.GradValues(loss, model.vars())\n",
        "\n",
        "@objax.Jit\n",
        "@objax.Function.with_vars(model.vars()+opt.vars())\n",
        "def train_op(x, y, lr):\n",
        "    g, v = grad_and_val(x, y)\n",
        "    opt(lr=lr, grads=g)\n",
        "    return v\n",
        "    "
      ],
      "id": "28a59618",
      "execution_count": 42,
      "outputs": []
    },
    {
      "cell_type": "code",
      "metadata": {
        "scrolled": false,
        "colab": {
          "base_uri": "https://localhost:8080/",
          "height": 49,
          "referenced_widgets": [
            "df0be905b4f2422cacebcb51f05aff3a",
            "06fa1b0eb3dd4dd8bd4c2bafc2af1bb2",
            "49b7ee01e50e4716a0510e93d2a8bb68",
            "0e08f87c249c4dfaadc58ccda880e97d",
            "1d1d777ba4f548b2aafca5e5a6b83021",
            "12f4c897fa1747ffaa4b2b537ce8f3d6",
            "76478f2933654b679440e517ffb44d53",
            "92d3e32539b647919c098710e05aa013",
            "49e9d8755b984f499b2644c23c4c9871",
            "354e4082236847a8b8a1e65f184651d5",
            "84c017f30f9c4f86b9bf6ee7f50d4f92"
          ]
        },
        "id": "e32ee1da",
        "outputId": "e5338bee-07d9-416d-d1b3-68a6be59920c"
      },
      "source": [
        "test_losses = []\n",
        "train_losses = []\n",
        "for epoch in tqdm(range(NUM_EPOCHS)):\n",
        "    train_losses.append(np.mean([train_op(jnp.array(x),jnp.array(y),ALPHA) for (x,y) in dataloaders['train']]))\n",
        "    if not epoch%10:\n",
        "        test_losses.append(np.mean([loss(jnp.array(x),jnp.array(y)) for (x,y) in dataloaders['test']]))"
      ],
      "id": "e32ee1da",
      "execution_count": 43,
      "outputs": [
        {
          "output_type": "display_data",
          "data": {
            "application/vnd.jupyter.widget-view+json": {
              "model_id": "df0be905b4f2422cacebcb51f05aff3a",
              "version_minor": 0,
              "version_major": 2
            },
            "text/plain": [
              "  0%|          | 0/1000 [00:00<?, ?it/s]"
            ]
          },
          "metadata": {}
        }
      ]
    },
    {
      "cell_type": "code",
      "metadata": {
        "colab": {
          "base_uri": "https://localhost:8080/",
          "height": 265
        },
        "id": "12d46279",
        "outputId": "75ba0369-32a5-4bed-af01-3e80942dfa4f"
      },
      "source": [
        "plt.plot(np.arange(NUM_EPOCHS),train_losses,label='Train loss')\n",
        "plt.plot(np.arange(0,NUM_EPOCHS,10),test_losses,label='Test loss')\n",
        "plt.legend()\n",
        "plt.yscale('log')"
      ],
      "id": "12d46279",
      "execution_count": 44,
      "outputs": [
        {
          "output_type": "display_data",
          "data": {
            "image/png": "[encoded data removed]",
            "text/plain": [
              "<Figure size 432x288 with 1 Axes>"
            ]
          },
          "metadata": {
            "needs_background": "light"
          }
        }
      ]
    },
    {
      "cell_type": "code",
      "metadata": {
        "colab": {
          "base_uri": "https://localhost:8080/"
        },
        "id": "3aa2f98e",
        "outputId": "ba7593be-88ad-4051-9320-23a683c71a5f"
      },
      "source": [
        "print('Trained state model predictions: ...\\n')\n",
        "evaluate(model)"
      ],
      "id": "3aa2f98e",
      "execution_count": 45,
      "outputs": [
        {
          "output_type": "stream",
          "name": "stdout",
          "text": [
            "Trained state model predictions: ...\n",
            "\n",
            "Predictions for \n",
            "p0 :  [0.9275267  0.28379706 0.08417642] \n",
            "pt :  [0.78936905 0.52885675 0.101215  ]\n"
          ]
        }
      ]
    },
    {
      "cell_type": "code",
      "metadata": {
        "id": "0c8e36a0",
        "outputId": "078c37e5-8b4c-4242-c2d3-ba77d72edb1b",
        "colab": {
          "base_uri": "https://localhost:8080/",
          "height": 336
        }
      },
      "source": [
        "g = G.sample()\n",
        "v = dataloaders['train'].dataset.generate(1,0.5,0.1)\n",
        "feat_v = model(jnp.asarray(v))\n",
        "\n",
        "rho_v = dataloaders['train'].dataset.generate(1,0.5,0.4)\n",
        "feat_rhov = model(jnp.asarray(rho_v))\n",
        "\n",
        "v = v.reshape(100,3)\n",
        "rho_v = rho_v.reshape(v.shape)\n",
        "\n",
        "fig, axs = plt.subplots(1,2,figsize=(5*2,5))\n",
        "axs[0].plot(v[:,0],v[:,1], label='original')\n",
        "axs[0].set_title('Original :'+','.join('%.2f'%i for i in feat_v))\n",
        "axs[1].plot(rho_v[:,0], rho_v[:,1], label='transformed')\n",
        "axs[1].set_title('Transformed: '+','.join('%.2f'%i for i in feat_rhov))\n",
        "plt.show()"
      ],
      "id": "0c8e36a0",
      "execution_count": 46,
      "outputs": [
        {
          "output_type": "display_data",
          "data": {
            "image/png": "[encoded data removed]",
            "text/plain": [
              "<Figure size 720x360 with 2 Axes>"
            ]
          },
          "metadata": {
            "needs_background": "light"
          }
        }
      ]
    },
    {
      "cell_type": "code",
      "metadata": {
        "id": "r46tXP70-v68"
      },
      "source": [
        ""
      ],
      "id": "r46tXP70-v68",
      "execution_count": 46,
      "outputs": []
    }
  ]
}