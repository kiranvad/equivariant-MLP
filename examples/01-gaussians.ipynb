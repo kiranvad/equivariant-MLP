{
  "nbformat": 4,
  "nbformat_minor": 5,
  "metadata": {
    "kernelspec": {
      "name": "python3",
      "display_name": "Python 3"
    },
    "colab": {
      "name": "02_Spectral_variations_using_EMLP_.ipynb",
      "provenance": [],
      "include_colab_link": true
    },
    "language_info": {
      "name": "python"
    },
    "widgets": {
      "application/vnd.jupyter.widget-state+json": {
        "11fcd3af96be4874aef9c7bce04e1ff5": {
          "model_module": "@jupyter-widgets/controls",
          "model_name": "HBoxModel",
          "model_module_version": "1.5.0",
          "state": {
            "_view_name": "HBoxView",
            "_dom_classes": [],
            "_model_name": "HBoxModel",
            "_view_module": "@jupyter-widgets/controls",
            "_model_module_version": "1.5.0",
            "_view_count": null,
            "_view_module_version": "1.5.0",
            "box_style": "",
            "layout": "IPY_MODEL_dc218548740e413eb655ff50d6c7c6fc",
            "_model_module": "@jupyter-widgets/controls",
            "children": [
              "IPY_MODEL_bfeee97c10d54daeb403ba2b8fde8759",
              "IPY_MODEL_e268425ab7044fd39bf6ad0fea18f398",
              "IPY_MODEL_8be32ff666234ec38c71f68092cf3fda"
            ]
          }
        },
        "dc218548740e413eb655ff50d6c7c6fc": {
          "model_module": "@jupyter-widgets/base",
          "model_name": "LayoutModel",
          "model_module_version": "1.2.0",
          "state": {
            "_view_name": "LayoutView",
            "grid_template_rows": null,
            "right": null,
            "justify_content": null,
            "_view_module": "@jupyter-widgets/base",
            "overflow": null,
            "_model_module_version": "1.2.0",
            "_view_count": null,
            "flex_flow": null,
            "width": null,
            "min_width": null,
            "border": null,
            "align_items": null,
            "bottom": null,
            "_model_module": "@jupyter-widgets/base",
            "top": null,
            "grid_column": null,
            "overflow_y": null,
            "overflow_x": null,
            "grid_auto_flow": null,
            "grid_area": null,
            "grid_template_columns": null,
            "flex": null,
            "_model_name": "LayoutModel",
            "justify_items": null,
            "grid_row": null,
            "max_height": null,
            "align_content": null,
            "visibility": null,
            "align_self": null,
            "height": null,
            "min_height": null,
            "padding": null,
            "grid_auto_rows": null,
            "grid_gap": null,
            "max_width": null,
            "order": null,
            "_view_module_version": "1.2.0",
            "grid_template_areas": null,
            "object_position": null,
            "object_fit": null,
            "grid_auto_columns": null,
            "margin": null,
            "display": null,
            "left": null
          }
        },
        "bfeee97c10d54daeb403ba2b8fde8759": {
          "model_module": "@jupyter-widgets/controls",
          "model_name": "HTMLModel",
          "model_module_version": "1.5.0",
          "state": {
            "_view_name": "HTMLView",
            "style": "IPY_MODEL_dd281bdf918b48308639c533fdbf6ab9",
            "_dom_classes": [],
            "description": "",
            "_model_name": "HTMLModel",
            "placeholder": "​",
            "_view_module": "@jupyter-widgets/controls",
            "_model_module_version": "1.5.0",
            "value": " 80%",
            "_view_count": null,
            "_view_module_version": "1.5.0",
            "description_tooltip": null,
            "_model_module": "@jupyter-widgets/controls",
            "layout": "IPY_MODEL_4b61f3e0327b4a9c85c31facdea00051"
          }
        },
        "e268425ab7044fd39bf6ad0fea18f398": {
          "model_module": "@jupyter-widgets/controls",
          "model_name": "FloatProgressModel",
          "model_module_version": "1.5.0",
          "state": {
            "_view_name": "ProgressView",
            "style": "IPY_MODEL_e68b85df3081465ea181cd31058cef32",
            "_dom_classes": [],
            "description": "",
            "_model_name": "FloatProgressModel",
            "bar_style": "",
            "max": 500,
            "_view_module": "@jupyter-widgets/controls",
            "_model_module_version": "1.5.0",
            "value": 400,
            "_view_count": null,
            "_view_module_version": "1.5.0",
            "orientation": "horizontal",
            "min": 0,
            "description_tooltip": null,
            "_model_module": "@jupyter-widgets/controls",
            "layout": "IPY_MODEL_f4edd94a6c114fddb31dc75d0710091b"
          }
        },
        "8be32ff666234ec38c71f68092cf3fda": {
          "model_module": "@jupyter-widgets/controls",
          "model_name": "HTMLModel",
          "model_module_version": "1.5.0",
          "state": {
            "_view_name": "HTMLView",
            "style": "IPY_MODEL_52fbd10720e641de9a3e6c49ba4c3abb",
            "_dom_classes": [],
            "description": "",
            "_model_name": "HTMLModel",
            "placeholder": "​",
            "_view_module": "@jupyter-widgets/controls",
            "_model_module_version": "1.5.0",
            "value": " 400/500 [02:27&lt;00:34,  2.94it/s]",
            "_view_count": null,
            "_view_module_version": "1.5.0",
            "description_tooltip": null,
            "_model_module": "@jupyter-widgets/controls",
            "layout": "IPY_MODEL_ac2aa4e96dc14831bb1e6665bfa80fd8"
          }
        },
        "dd281bdf918b48308639c533fdbf6ab9": {
          "model_module": "@jupyter-widgets/controls",
          "model_name": "DescriptionStyleModel",
          "model_module_version": "1.5.0",
          "state": {
            "_view_name": "StyleView",
            "_model_name": "DescriptionStyleModel",
            "description_width": "",
            "_view_module": "@jupyter-widgets/base",
            "_model_module_version": "1.5.0",
            "_view_count": null,
            "_view_module_version": "1.2.0",
            "_model_module": "@jupyter-widgets/controls"
          }
        },
        "4b61f3e0327b4a9c85c31facdea00051": {
          "model_module": "@jupyter-widgets/base",
          "model_name": "LayoutModel",
          "model_module_version": "1.2.0",
          "state": {
            "_view_name": "LayoutView",
            "grid_template_rows": null,
            "right": null,
            "justify_content": null,
            "_view_module": "@jupyter-widgets/base",
            "overflow": null,
            "_model_module_version": "1.2.0",
            "_view_count": null,
            "flex_flow": null,
            "width": null,
            "min_width": null,
            "border": null,
            "align_items": null,
            "bottom": null,
            "_model_module": "@jupyter-widgets/base",
            "top": null,
            "grid_column": null,
            "overflow_y": null,
            "overflow_x": null,
            "grid_auto_flow": null,
            "grid_area": null,
            "grid_template_columns": null,
            "flex": null,
            "_model_name": "LayoutModel",
            "justify_items": null,
            "grid_row": null,
            "max_height": null,
            "align_content": null,
            "visibility": null,
            "align_self": null,
            "height": null,
            "min_height": null,
            "padding": null,
            "grid_auto_rows": null,
            "grid_gap": null,
            "max_width": null,
            "order": null,
            "_view_module_version": "1.2.0",
            "grid_template_areas": null,
            "object_position": null,
            "object_fit": null,
            "grid_auto_columns": null,
            "margin": null,
            "display": null,
            "left": null
          }
        },
        "e68b85df3081465ea181cd31058cef32": {
          "model_module": "@jupyter-widgets/controls",
          "model_name": "ProgressStyleModel",
          "model_module_version": "1.5.0",
          "state": {
            "_view_name": "StyleView",
            "_model_name": "ProgressStyleModel",
            "description_width": "",
            "_view_module": "@jupyter-widgets/base",
            "_model_module_version": "1.5.0",
            "_view_count": null,
            "_view_module_version": "1.2.0",
            "bar_color": null,
            "_model_module": "@jupyter-widgets/controls"
          }
        },
        "f4edd94a6c114fddb31dc75d0710091b": {
          "model_module": "@jupyter-widgets/base",
          "model_name": "LayoutModel",
          "model_module_version": "1.2.0",
          "state": {
            "_view_name": "LayoutView",
            "grid_template_rows": null,
            "right": null,
            "justify_content": null,
            "_view_module": "@jupyter-widgets/base",
            "overflow": null,
            "_model_module_version": "1.2.0",
            "_view_count": null,
            "flex_flow": null,
            "width": null,
            "min_width": null,
            "border": null,
            "align_items": null,
            "bottom": null,
            "_model_module": "@jupyter-widgets/base",
            "top": null,
            "grid_column": null,
            "overflow_y": null,
            "overflow_x": null,
            "grid_auto_flow": null,
            "grid_area": null,
            "grid_template_columns": null,
            "flex": null,
            "_model_name": "LayoutModel",
            "justify_items": null,
            "grid_row": null,
            "max_height": null,
            "align_content": null,
            "visibility": null,
            "align_self": null,
            "height": null,
            "min_height": null,
            "padding": null,
            "grid_auto_rows": null,
            "grid_gap": null,
            "max_width": null,
            "order": null,
            "_view_module_version": "1.2.0",
            "grid_template_areas": null,
            "object_position": null,
            "object_fit": null,
            "grid_auto_columns": null,
            "margin": null,
            "display": null,
            "left": null
          }
        },
        "52fbd10720e641de9a3e6c49ba4c3abb": {
          "model_module": "@jupyter-widgets/controls",
          "model_name": "DescriptionStyleModel",
          "model_module_version": "1.5.0",
          "state": {
            "_view_name": "StyleView",
            "_model_name": "DescriptionStyleModel",
            "description_width": "",
            "_view_module": "@jupyter-widgets/base",
            "_model_module_version": "1.5.0",
            "_view_count": null,
            "_view_module_version": "1.2.0",
            "_model_module": "@jupyter-widgets/controls"
          }
        },
        "ac2aa4e96dc14831bb1e6665bfa80fd8": {
          "model_module": "@jupyter-widgets/base",
          "model_name": "LayoutModel",
          "model_module_version": "1.2.0",
          "state": {
            "_view_name": "LayoutView",
            "grid_template_rows": null,
            "right": null,
            "justify_content": null,
            "_view_module": "@jupyter-widgets/base",
            "overflow": null,
            "_model_module_version": "1.2.0",
            "_view_count": null,
            "flex_flow": null,
            "width": null,
            "min_width": null,
            "border": null,
            "align_items": null,
            "bottom": null,
            "_model_module": "@jupyter-widgets/base",
            "top": null,
            "grid_column": null,
            "overflow_y": null,
            "overflow_x": null,
            "grid_auto_flow": null,
            "grid_area": null,
            "grid_template_columns": null,
            "flex": null,
            "_model_name": "LayoutModel",
            "justify_items": null,
            "grid_row": null,
            "max_height": null,
            "align_content": null,
            "visibility": null,
            "align_self": null,
            "height": null,
            "min_height": null,
            "padding": null,
            "grid_auto_rows": null,
            "grid_gap": null,
            "max_width": null,
            "order": null,
            "_view_module_version": "1.2.0",
            "grid_template_areas": null,
            "object_position": null,
            "object_fit": null,
            "grid_auto_columns": null,
            "margin": null,
            "display": null,
            "left": null
          }
        }
      }
    }
  },
  "cells": [
    {
      "cell_type": "markdown",
      "metadata": {
        "id": "view-in-github",
        "colab_type": "text"
      },
      "source": [
        "<a href=\"https://colab.research.google.com/github/kiranvad/equivariant-MLP/blob/master/examples/01-gaussians.ipynb\" target=\"_parent\"><img src=\"https://colab.research.google.com/assets/colab-badge.svg\" alt=\"Open In Colab\"/></a>"
      ]
    },
    {
      "cell_type": "code",
      "metadata": {
        "id": "TwDANoDyxeEB",
        "colab": {
          "base_uri": "https://localhost:8080/"
        },
        "outputId": "47aac908-e786-4cf2-8218-5b8f69dede9f"
      },
      "source": [
        "from google.colab import drive\n",
        "drive.mount('/content/drive')"
      ],
      "id": "TwDANoDyxeEB",
      "execution_count": 1,
      "outputs": [
        {
          "output_type": "stream",
          "name": "stdout",
          "text": [
            "Mounted at /content/drive\n"
          ]
        }
      ]
    },
    {
      "cell_type": "code",
      "metadata": {
        "id": "a3cdd38f"
      },
      "source": [
        "%pip --quiet install git+https://github.com/mfinzi/equivariant-MLP.git\n",
        "%pip --quiet install git+https://github.com/kiranvad/spectroscopy.git\n",
        "%pip --quiet install git+https://github.com/kiranvad/olive-oil-ml.git"
      ],
      "id": "a3cdd38f",
      "execution_count": 21,
      "outputs": []
    },
    {
      "cell_type": "code",
      "metadata": {
        "id": "9c00640a"
      },
      "source": [
        "import numpy as np\n",
        "import pdb\n",
        "\n",
        "from emlp.reps import V\n",
        "from emlp.groups import Group, SO, Scaling, I\n",
        "from emlp.nn import EMLP, MLP\n",
        "\n",
        "import jax.numpy as jnp\n",
        "import objax\n",
        "from oil.datasetup.datasets import split_dataset\n",
        "from torch.utils.data import DataLoader\n",
        "\n",
        "from tqdm.auto import tqdm\n",
        "import matplotlib.pyplot as plt\n",
        "\n",
        "import spectroscopy as ss"
      ],
      "id": "9c00640a",
      "execution_count": 22,
      "outputs": []
    },
    {
      "cell_type": "code",
      "metadata": {
        "id": "3800390a"
      },
      "source": [
        "# set up hyper-parameters\n",
        "BATCH_SIZE = 64\n",
        "ALPHA=3e-3\n",
        "NUM_EPOCHS=500\n",
        "ND = 20"
      ],
      "id": "3800390a",
      "execution_count": 32,
      "outputs": []
    },
    {
      "cell_type": "code",
      "metadata": {
        "colab": {
          "base_uri": "https://localhost:8080/"
        },
        "id": "8fd7af5a",
        "outputId": "fbf6e8f5-4c50-46c0-cefa-6fa1bb855a33"
      },
      "source": [
        "class Gaussians:\n",
        "    def __init__(self, Nd=10):\n",
        "        self.Nd = Nd\n",
        "        self.grid_points = np.linspace(0,1,num=100)\n",
        "        A = np.linspace(0,1,num = Nd)\n",
        "        B = np.linspace(0,1, num=Nd)\n",
        "        C = np.linspace(1e-3,1, num=Nd)\n",
        "        self.Y = ss.Grid(A, B,C)\n",
        "        self.X = np.array([self.gaussian(self.grid_points, a, b, c) for (a,b,c) in self.Y])\n",
        "    \n",
        "    def gaussian(self, x, a, b,c):\n",
        "        return a*np.exp(-np.power(x - b, 2.) / (2 * np.power(c, 2.)))\n",
        "\n",
        "    def generate(self, a,b,c):\n",
        "        x0 = self.grid_points\n",
        "        x1 = self.gaussian(x0, a, b, c)\n",
        "        x2 = np.ones(100)\n",
        "        \n",
        "        return np.vstack((x0,x1,x2)).T.flatten()\n",
        "    \n",
        "    def __getitem__(self, i):\n",
        "        pos = np.vstack((self.grid_points, self.X[i,:], np.ones(100))).T.flatten()\n",
        "        label = self.Y[i,:]\n",
        "        return pos, label\n",
        "    \n",
        "    def __len__(self):\n",
        "        return len(self.Y)\n",
        "    \n",
        "datasets = split_dataset(Gaussians(Nd=ND),splits={'train':-1,'test':0.2, 'val':0.1})\n",
        "dataloaders = {k:DataLoader(v,batch_size=min(BATCH_SIZE,len(v)),shuffle=(k=='train'),\n",
        "            num_workers=0,pin_memory=False) for k,v in datasets.items()}"
      ],
      "id": "8fd7af5a",
      "execution_count": 33,
      "outputs": [
        {
          "output_type": "stream",
          "name": "stderr",
          "text": [
            " /usr/local/lib/python3.7/dist-packages/spectroscopy/designspace.py:64: FutureWarning:arrays to stack must be passed as a \"sequence\" type such as list or tuple. Support for non-sequence iterables such as generators is deprecated as of NumPy 1.16 and will raise an error in the future.\n"
          ]
        }
      ]
    },
    {
      "cell_type": "code",
      "metadata": {
        "colab": {
          "base_uri": "https://localhost:8080/",
          "height": 356
        },
        "id": "9d3cc742",
        "outputId": "4bd6d877-4581-4021-f7c4-abaedf64d7a1"
      },
      "source": [
        "class SE3(Group):\n",
        "    def __init__(self,n):\n",
        "        \"\"\"Special Eulcidean Group in 3 dimensions\n",
        "        \"\"\"\n",
        "        assert n==3, 'This is only for SE(3) not %d'%n\n",
        "        self.lie_algebra = np.zeros((3,3,3)) \n",
        "        self.lie_algebra[0,...] = SO(n).lie_algebra[0,...]\n",
        "        self.lie_algebra[1,...] = np.array([[0,0,1],[0,0,0],[0,0,0]])\n",
        "        self.lie_algebra[2,...] = np.array([[0,0,0],[0,0,1],[0,0,0]])\n",
        "        super().__init__(n)\n",
        "\n",
        "class T2(Group):\n",
        "  def __init__(self, n=2):\n",
        "    \"\"\"Translation group in two-dimensions\n",
        "    \"\"\"\n",
        "    assert n==2, 'This is only for T(2) not %d'%n\n",
        "    self.lie_algebra = np.zeros((2,3,3))\n",
        "    self.lie_algebra[0,...] = np.array([[0,0,1],[0,0,0],[0,0,0]])\n",
        "    self.lie_algebra[1,...] = np.array([[0,0,0],[0,0,1],[0,0,0]])\n",
        "    super().__init__(n)\n",
        "\n",
        "G = T2(2)\n",
        "g = G.sample()\n",
        "v, label = next(iter(dataloaders['train']))\n",
        "v = jnp.asarray(v[0,...]).reshape(100,3)\n",
        "label = label[0]\n",
        "rep_in = 100*V**1\n",
        "\n",
        "rho_v = rep_in(G).rho_dense(g)@v.flatten()\n",
        "rho_v = rho_v.reshape(v.shape)\n",
        "\n",
        "fig, axs = plt.subplots(1,2,figsize=(5*2,5))\n",
        "axs[0].plot(v[:,0],v[:,1], label='original')\n",
        "axs[0].set_title('Original')\n",
        "axs[1].plot(rho_v[:,0], rho_v[:,1], label='transformed')\n",
        "axs[1].set_title('Transformed')\n",
        "fig.suptitle(','.join('%.2f'%(i) for i in label.numpy()))\n",
        "plt.show()"
      ],
      "id": "9d3cc742",
      "execution_count": 34,
      "outputs": [
        {
          "output_type": "display_data",
          "data": {
            "image/png": "[encoded data removed]",
            "text/plain": [
              "<Figure size 720x360 with 2 Axes>"
            ]
          },
          "metadata": {
            "needs_background": "light"
          }
        }
      ]
    },
    {
      "cell_type": "code",
      "metadata": {
        "id": "8c56be56"
      },
      "source": [
        "rep_out = 3*V**0\n",
        "model = EMLP(rep_in,rep_out,group=G,num_layers=1, ch=32)\n",
        "#model = MLP(rep_in,rep_out,group=G,num_layers=1, ch=32)"
      ],
      "id": "8c56be56",
      "execution_count": 35,
      "outputs": []
    },
    {
      "cell_type": "code",
      "metadata": {
        "id": "AriQ5_xg0jNq",
        "outputId": "88e10248-0f73-4826-b7ff-0f8e023cf5dc",
        "colab": {
          "base_uri": "https://localhost:8080/"
        }
      },
      "source": [
        "# evaluate the model in its random initial stage\n",
        "def evaluate(model):\n",
        "  p0 = dataloaders['train'].dataset.generate(1,0.3,0.1)\n",
        "  pt = dataloaders['train'].dataset.generate(1,0.5,0.1)\n",
        "  print('Predictions for \\np0 : ', model(jnp.asarray(p0)), '\\npt : ', model(jnp.asarray(pt)))\n",
        "\n",
        "print('Random state model predictions: ...\\n')\n",
        "evaluate(model)"
      ],
      "id": "AriQ5_xg0jNq",
      "execution_count": 36,
      "outputs": [
        {
          "output_type": "stream",
          "name": "stdout",
          "text": [
            "Random state model predictions: ...\n",
            "\n",
            "Predictions for \n",
            "p0 :  [0.01494327 0.44481897 0.25264055] \n",
            "pt :  [0.0226606  0.43066126 0.24097268]\n"
          ]
        }
      ]
    },
    {
      "cell_type": "code",
      "metadata": {
        "id": "28a59618"
      },
      "source": [
        "import jax\n",
        "from objax.functional import softmax\n",
        "\n",
        "\n",
        "@objax.Jit\n",
        "@objax.Function.with_vars(model.vars())\n",
        "def cross_entropy(x,y):\n",
        "    \"\"\" Standard cross-entropy loss \"\"\"\n",
        "    logits = model(x,training=True)\n",
        "    logp = jax.nn.log_softmax(logits)\n",
        "    ll = jnp.take_along_axis(logp, jnp.expand_dims(y, axis=1), axis=1)\n",
        "    ce = -jnp.mean(ll)\n",
        "    return ce\n",
        "\n",
        "@objax.Jit\n",
        "@objax.Function.with_vars(model.vars())\n",
        "def mean_square(x, y):\n",
        "    yhat = model(x)\n",
        "    return ((yhat-y)**2).mean()\n",
        "\n",
        "\n",
        "loss = lambda x,y : mean_square(x,y)\n",
        "\n",
        "opt = objax.optimizer.Adam(model.vars())\n",
        "\n",
        "grad_and_val = objax.GradValues(loss, model.vars())\n",
        "\n",
        "@objax.Jit\n",
        "@objax.Function.with_vars(model.vars()+opt.vars())\n",
        "def train_op(x, y, lr):\n",
        "    g, v = grad_and_val(x, y)\n",
        "    opt(lr=lr, grads=g)\n",
        "    return v\n",
        "    "
      ],
      "id": "28a59618",
      "execution_count": 37,
      "outputs": []
    },
    {
      "cell_type": "code",
      "metadata": {
        "scrolled": false,
        "colab": {
          "base_uri": "https://localhost:8080/",
          "height": 49,
          "referenced_widgets": [
            "11fcd3af96be4874aef9c7bce04e1ff5",
            "dc218548740e413eb655ff50d6c7c6fc",
            "bfeee97c10d54daeb403ba2b8fde8759",
            "e268425ab7044fd39bf6ad0fea18f398",
            "8be32ff666234ec38c71f68092cf3fda",
            "dd281bdf918b48308639c533fdbf6ab9",
            "4b61f3e0327b4a9c85c31facdea00051",
            "e68b85df3081465ea181cd31058cef32",
            "f4edd94a6c114fddb31dc75d0710091b",
            "52fbd10720e641de9a3e6c49ba4c3abb",
            "ac2aa4e96dc14831bb1e6665bfa80fd8"
          ]
        },
        "id": "e32ee1da",
        "outputId": "2d284267-eb3c-43e4-e722-5d9a9860f3fa"
      },
      "source": [
        "test_losses = []\n",
        "train_losses = []\n",
        "for epoch in tqdm(range(NUM_EPOCHS)):\n",
        "    train_losses.append(np.mean([train_op(jnp.array(x),jnp.array(y),ALPHA) for (x,y) in dataloaders['train']]))\n",
        "    if not epoch%10:\n",
        "        test_losses.append(np.mean([loss(jnp.array(x),jnp.array(y)) for (x,y) in dataloaders['test']]))"
      ],
      "id": "e32ee1da",
      "execution_count": null,
      "outputs": [
        {
          "output_type": "display_data",
          "data": {
            "application/vnd.jupyter.widget-view+json": {
              "model_id": "11fcd3af96be4874aef9c7bce04e1ff5",
              "version_minor": 0,
              "version_major": 2
            },
            "text/plain": [
              "  0%|          | 0/500 [00:00<?, ?it/s]"
            ]
          },
          "metadata": {}
        }
      ]
    },
    {
      "cell_type": "code",
      "metadata": {
        "id": "12d46279"
      },
      "source": [
        "plt.plot(np.arange(NUM_EPOCHS),train_losses,label='Train loss')\n",
        "plt.plot(np.arange(0,NUM_EPOCHS,10),test_losses,label='Test loss')\n",
        "plt.legend()\n",
        "plt.yscale('log')"
      ],
      "id": "12d46279",
      "execution_count": null,
      "outputs": []
    },
    {
      "cell_type": "code",
      "metadata": {
        "id": "3aa2f98e"
      },
      "source": [
        "print('Trained state model predictions: ...\\n')\n",
        "evaluate(model)"
      ],
      "id": "3aa2f98e",
      "execution_count": null,
      "outputs": []
    },
    {
      "cell_type": "code",
      "metadata": {
        "id": "0c8e36a0"
      },
      "source": [
        ""
      ],
      "id": "0c8e36a0",
      "execution_count": null,
      "outputs": []
    }
  ]
}