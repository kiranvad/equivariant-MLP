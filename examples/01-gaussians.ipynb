{
  "nbformat": 4,
  "nbformat_minor": 5,
  "metadata": {
    "kernelspec": {
      "name": "python3",
      "display_name": "Python 3"
    },
    "colab": {
      "name": "02_Spectral_variations_using_EMLP_.ipynb",
      "provenance": [],
      "include_colab_link": true
    },
    "language_info": {
      "name": "python"
    },
    "widgets": {
      "application/vnd.jupyter.widget-state+json": {
        "97ec8a8e1db94bcbb0fca0adf864b023": {
          "model_module": "@jupyter-widgets/controls",
          "model_name": "HBoxModel",
          "model_module_version": "1.5.0",
          "state": {
            "_view_name": "HBoxView",
            "_dom_classes": [],
            "_model_name": "HBoxModel",
            "_view_module": "@jupyter-widgets/controls",
            "_model_module_version": "1.5.0",
            "_view_count": null,
            "_view_module_version": "1.5.0",
            "box_style": "",
            "layout": "IPY_MODEL_9172bc8c3f824e53af53660263926223",
            "_model_module": "@jupyter-widgets/controls",
            "children": [
              "IPY_MODEL_cca1c5d43f8b4690b77260c6c265d7fc",
              "IPY_MODEL_6fa448834453410081366d90135b6197",
              "IPY_MODEL_4c8dd5a8d3754a8ca9938f6831d64cff"
            ]
          }
        },
        "9172bc8c3f824e53af53660263926223": {
          "model_module": "@jupyter-widgets/base",
          "model_name": "LayoutModel",
          "model_module_version": "1.2.0",
          "state": {
            "_view_name": "LayoutView",
            "grid_template_rows": null,
            "right": null,
            "justify_content": null,
            "_view_module": "@jupyter-widgets/base",
            "overflow": null,
            "_model_module_version": "1.2.0",
            "_view_count": null,
            "flex_flow": null,
            "width": null,
            "min_width": null,
            "border": null,
            "align_items": null,
            "bottom": null,
            "_model_module": "@jupyter-widgets/base",
            "top": null,
            "grid_column": null,
            "overflow_y": null,
            "overflow_x": null,
            "grid_auto_flow": null,
            "grid_area": null,
            "grid_template_columns": null,
            "flex": null,
            "_model_name": "LayoutModel",
            "justify_items": null,
            "grid_row": null,
            "max_height": null,
            "align_content": null,
            "visibility": null,
            "align_self": null,
            "height": null,
            "min_height": null,
            "padding": null,
            "grid_auto_rows": null,
            "grid_gap": null,
            "max_width": null,
            "order": null,
            "_view_module_version": "1.2.0",
            "grid_template_areas": null,
            "object_position": null,
            "object_fit": null,
            "grid_auto_columns": null,
            "margin": null,
            "display": null,
            "left": null
          }
        },
        "cca1c5d43f8b4690b77260c6c265d7fc": {
          "model_module": "@jupyter-widgets/controls",
          "model_name": "HTMLModel",
          "model_module_version": "1.5.0",
          "state": {
            "_view_name": "HTMLView",
            "style": "IPY_MODEL_f41433ae343242be8785fac4f778e948",
            "_dom_classes": [],
            "description": "",
            "_model_name": "HTMLModel",
            "placeholder": "​",
            "_view_module": "@jupyter-widgets/controls",
            "_model_module_version": "1.5.0",
            "value": "100%",
            "_view_count": null,
            "_view_module_version": "1.5.0",
            "description_tooltip": null,
            "_model_module": "@jupyter-widgets/controls",
            "layout": "IPY_MODEL_241d81dd9b82429199f5ba088151b2cb"
          }
        },
        "6fa448834453410081366d90135b6197": {
          "model_module": "@jupyter-widgets/controls",
          "model_name": "FloatProgressModel",
          "model_module_version": "1.5.0",
          "state": {
            "_view_name": "ProgressView",
            "style": "IPY_MODEL_67b3edfcbcc94966851999f7a32a2c7c",
            "_dom_classes": [],
            "description": "",
            "_model_name": "FloatProgressModel",
            "bar_style": "success",
            "max": 500,
            "_view_module": "@jupyter-widgets/controls",
            "_model_module_version": "1.5.0",
            "value": 500,
            "_view_count": null,
            "_view_module_version": "1.5.0",
            "orientation": "horizontal",
            "min": 0,
            "description_tooltip": null,
            "_model_module": "@jupyter-widgets/controls",
            "layout": "IPY_MODEL_07433a837cf94712bca31ceb9dae4206"
          }
        },
        "4c8dd5a8d3754a8ca9938f6831d64cff": {
          "model_module": "@jupyter-widgets/controls",
          "model_name": "HTMLModel",
          "model_module_version": "1.5.0",
          "state": {
            "_view_name": "HTMLView",
            "style": "IPY_MODEL_b7235e4d91d44bc68dbaf96022d9c16a",
            "_dom_classes": [],
            "description": "",
            "_model_name": "HTMLModel",
            "placeholder": "​",
            "_view_module": "@jupyter-widgets/controls",
            "_model_module_version": "1.5.0",
            "value": " 500/500 [00:18&lt;00:00, 29.60it/s]",
            "_view_count": null,
            "_view_module_version": "1.5.0",
            "description_tooltip": null,
            "_model_module": "@jupyter-widgets/controls",
            "layout": "IPY_MODEL_072168ff262645be93b47d8e208bbce3"
          }
        },
        "f41433ae343242be8785fac4f778e948": {
          "model_module": "@jupyter-widgets/controls",
          "model_name": "DescriptionStyleModel",
          "model_module_version": "1.5.0",
          "state": {
            "_view_name": "StyleView",
            "_model_name": "DescriptionStyleModel",
            "description_width": "",
            "_view_module": "@jupyter-widgets/base",
            "_model_module_version": "1.5.0",
            "_view_count": null,
            "_view_module_version": "1.2.0",
            "_model_module": "@jupyter-widgets/controls"
          }
        },
        "241d81dd9b82429199f5ba088151b2cb": {
          "model_module": "@jupyter-widgets/base",
          "model_name": "LayoutModel",
          "model_module_version": "1.2.0",
          "state": {
            "_view_name": "LayoutView",
            "grid_template_rows": null,
            "right": null,
            "justify_content": null,
            "_view_module": "@jupyter-widgets/base",
            "overflow": null,
            "_model_module_version": "1.2.0",
            "_view_count": null,
            "flex_flow": null,
            "width": null,
            "min_width": null,
            "border": null,
            "align_items": null,
            "bottom": null,
            "_model_module": "@jupyter-widgets/base",
            "top": null,
            "grid_column": null,
            "overflow_y": null,
            "overflow_x": null,
            "grid_auto_flow": null,
            "grid_area": null,
            "grid_template_columns": null,
            "flex": null,
            "_model_name": "LayoutModel",
            "justify_items": null,
            "grid_row": null,
            "max_height": null,
            "align_content": null,
            "visibility": null,
            "align_self": null,
            "height": null,
            "min_height": null,
            "padding": null,
            "grid_auto_rows": null,
            "grid_gap": null,
            "max_width": null,
            "order": null,
            "_view_module_version": "1.2.0",
            "grid_template_areas": null,
            "object_position": null,
            "object_fit": null,
            "grid_auto_columns": null,
            "margin": null,
            "display": null,
            "left": null
          }
        },
        "67b3edfcbcc94966851999f7a32a2c7c": {
          "model_module": "@jupyter-widgets/controls",
          "model_name": "ProgressStyleModel",
          "model_module_version": "1.5.0",
          "state": {
            "_view_name": "StyleView",
            "_model_name": "ProgressStyleModel",
            "description_width": "",
            "_view_module": "@jupyter-widgets/base",
            "_model_module_version": "1.5.0",
            "_view_count": null,
            "_view_module_version": "1.2.0",
            "bar_color": null,
            "_model_module": "@jupyter-widgets/controls"
          }
        },
        "07433a837cf94712bca31ceb9dae4206": {
          "model_module": "@jupyter-widgets/base",
          "model_name": "LayoutModel",
          "model_module_version": "1.2.0",
          "state": {
            "_view_name": "LayoutView",
            "grid_template_rows": null,
            "right": null,
            "justify_content": null,
            "_view_module": "@jupyter-widgets/base",
            "overflow": null,
            "_model_module_version": "1.2.0",
            "_view_count": null,
            "flex_flow": null,
            "width": null,
            "min_width": null,
            "border": null,
            "align_items": null,
            "bottom": null,
            "_model_module": "@jupyter-widgets/base",
            "top": null,
            "grid_column": null,
            "overflow_y": null,
            "overflow_x": null,
            "grid_auto_flow": null,
            "grid_area": null,
            "grid_template_columns": null,
            "flex": null,
            "_model_name": "LayoutModel",
            "justify_items": null,
            "grid_row": null,
            "max_height": null,
            "align_content": null,
            "visibility": null,
            "align_self": null,
            "height": null,
            "min_height": null,
            "padding": null,
            "grid_auto_rows": null,
            "grid_gap": null,
            "max_width": null,
            "order": null,
            "_view_module_version": "1.2.0",
            "grid_template_areas": null,
            "object_position": null,
            "object_fit": null,
            "grid_auto_columns": null,
            "margin": null,
            "display": null,
            "left": null
          }
        },
        "b7235e4d91d44bc68dbaf96022d9c16a": {
          "model_module": "@jupyter-widgets/controls",
          "model_name": "DescriptionStyleModel",
          "model_module_version": "1.5.0",
          "state": {
            "_view_name": "StyleView",
            "_model_name": "DescriptionStyleModel",
            "description_width": "",
            "_view_module": "@jupyter-widgets/base",
            "_model_module_version": "1.5.0",
            "_view_count": null,
            "_view_module_version": "1.2.0",
            "_model_module": "@jupyter-widgets/controls"
          }
        },
        "072168ff262645be93b47d8e208bbce3": {
          "model_module": "@jupyter-widgets/base",
          "model_name": "LayoutModel",
          "model_module_version": "1.2.0",
          "state": {
            "_view_name": "LayoutView",
            "grid_template_rows": null,
            "right": null,
            "justify_content": null,
            "_view_module": "@jupyter-widgets/base",
            "overflow": null,
            "_model_module_version": "1.2.0",
            "_view_count": null,
            "flex_flow": null,
            "width": null,
            "min_width": null,
            "border": null,
            "align_items": null,
            "bottom": null,
            "_model_module": "@jupyter-widgets/base",
            "top": null,
            "grid_column": null,
            "overflow_y": null,
            "overflow_x": null,
            "grid_auto_flow": null,
            "grid_area": null,
            "grid_template_columns": null,
            "flex": null,
            "_model_name": "LayoutModel",
            "justify_items": null,
            "grid_row": null,
            "max_height": null,
            "align_content": null,
            "visibility": null,
            "align_self": null,
            "height": null,
            "min_height": null,
            "padding": null,
            "grid_auto_rows": null,
            "grid_gap": null,
            "max_width": null,
            "order": null,
            "_view_module_version": "1.2.0",
            "grid_template_areas": null,
            "object_position": null,
            "object_fit": null,
            "grid_auto_columns": null,
            "margin": null,
            "display": null,
            "left": null
          }
        }
      }
    }
  },
  "cells": [
    {
      "cell_type": "markdown",
      "metadata": {
        "id": "view-in-github",
        "colab_type": "text"
      },
      "source": [
        "<a href=\"https://colab.research.google.com/github/kiranvad/equivariant-MLP/blob/master/examples/01-gaussians.ipynb\" target=\"_parent\"><img src=\"https://colab.research.google.com/assets/colab-badge.svg\" alt=\"Open In Colab\"/></a>"
      ]
    },
    {
      "cell_type": "code",
      "metadata": {
        "id": "TwDANoDyxeEB",
        "colab": {
          "base_uri": "https://localhost:8080/"
        },
        "outputId": "573ce9be-dd9a-4ea3-afcc-6a06db35f7db"
      },
      "source": [
        "from google.colab import drive\n",
        "drive.mount('/content/drive')"
      ],
      "id": "TwDANoDyxeEB",
      "execution_count": null,
      "outputs": [
        {
          "output_type": "stream",
          "name": "stdout",
          "text": [
            "Mounted at /content/drive\n"
          ]
        }
      ]
    },
    {
      "cell_type": "code",
      "metadata": {
        "colab": {
          "base_uri": "https://localhost:8080/"
        },
        "id": "a3cdd38f",
        "outputId": "8bf50303-0715-4c2e-9530-eea4462dabfc"
      },
      "source": [
        "%pip --quiet install git+https://github.com/mfinzi/equivariant-MLP.git\n",
        "%pip --quiet install git+https://github.com/kiranvad/spectroscopy.git\n",
        "%pip --quiet install git+https://github.com/kiranvad/olive-oil-ml.git"
      ],
      "id": "a3cdd38f",
      "execution_count": null,
      "outputs": [
        {
          "output_type": "stream",
          "name": "stdout",
          "text": [
            "  Building wheel for olive-oil-ml (setup.py) ... \u001b[?25l\u001b[?25hdone\n",
            "  Building wheel for torchcontrib (setup.py) ... \u001b[?25l\u001b[?25hdone\n"
          ]
        }
      ]
    },
    {
      "cell_type": "code",
      "metadata": {
        "colab": {
          "base_uri": "https://localhost:8080/"
        },
        "id": "9c00640a",
        "outputId": "8f65aeab-7a89-4125-d149-0aacb6ac86d6"
      },
      "source": [
        "import numpy as np\n",
        "import pdb\n",
        "\n",
        "from emlp.reps import V\n",
        "from emlp.groups import Group, SO, Scaling, I\n",
        "from emlp.nn import EMLP, MLP\n",
        "\n",
        "import jax.numpy as jnp\n",
        "import objax\n",
        "from oil.datasetup.datasets import split_dataset\n",
        "from torch.utils.data import DataLoader\n",
        "\n",
        "from tqdm.auto import tqdm\n",
        "import matplotlib.pyplot as plt\n",
        "\n",
        "import spectroscopy as ss"
      ],
      "id": "9c00640a",
      "execution_count": null,
      "outputs": [
        {
          "output_type": "stream",
          "name": "stderr",
          "text": [
            " /usr/local/lib/python3.7/dist-packages/numba/np/ufunc/parallel.py:363: NumbaWarning:The TBB threading layer requires TBB version 2019.5 or later i.e., TBB_INTERFACE_VERSION >= 11005. Found TBB_INTERFACE_VERSION = 9107. The TBB threading layer is disabled.\n"
          ]
        }
      ]
    },
    {
      "cell_type": "code",
      "metadata": {
        "id": "3800390a"
      },
      "source": [
        "# set up hyper-parameters\n",
        "BATCH_SIZE = 64\n",
        "ALPHA=3e-3\n",
        "NUM_EPOCHS=500"
      ],
      "id": "3800390a",
      "execution_count": null,
      "outputs": []
    },
    {
      "cell_type": "code",
      "metadata": {
        "colab": {
          "base_uri": "https://localhost:8080/"
        },
        "id": "8fd7af5a",
        "outputId": "0efd14b3-a57b-4d1c-870a-95c5fbef2a28"
      },
      "source": [
        "class Gaussians:\n",
        "    def __init__(self, Nd=10):\n",
        "        self.Nd = Nd\n",
        "        self.grid_points = np.linspace(0,1,num=100)\n",
        "        A = np.linspace(0,1,num = Nd)\n",
        "        B = np.linspace(0,1, num=Nd)\n",
        "        C = np.linspace(1e-3,1, num=Nd)\n",
        "        self.Y = ss.Grid(A, B,C)\n",
        "        self.X = np.array([self.gaussian(self.grid_points, a, b, c) for (a,b,c) in self.Y])\n",
        "    \n",
        "    def gaussian(self, x, a, b,c):\n",
        "        return a*np.exp(-np.power(x - b, 2.) / (2 * np.power(c, 2.)))\n",
        "\n",
        "    def generate(self, a,b,c):\n",
        "        x0 = self.grid_points\n",
        "        x1 = self.gaussian(x0, a, b, c)\n",
        "        x2 = np.ones(100)\n",
        "        \n",
        "        return np.vstack((x0,x1,x2)).T.flatten()\n",
        "    \n",
        "    def __getitem__(self, i):\n",
        "        pos = np.vstack((self.grid_points, self.X[i,:], np.ones(100))).T.flatten()\n",
        "        label = self.Y[i,:]\n",
        "        return pos, label\n",
        "    \n",
        "    def __len__(self):\n",
        "        return len(self.Y)\n",
        "    \n",
        "datasets = split_dataset(Gaussians(Nd=10),splits={'train':-1,'test':0.2, 'val':0.1})\n",
        "dataloaders = {k:DataLoader(v,batch_size=min(BATCH_SIZE,len(v)),shuffle=(k=='train'),\n",
        "            num_workers=0,pin_memory=False) for k,v in datasets.items()}"
      ],
      "id": "8fd7af5a",
      "execution_count": null,
      "outputs": [
        {
          "output_type": "stream",
          "name": "stderr",
          "text": [
            " /usr/local/lib/python3.7/dist-packages/spectroscopy/designspace.py:64: FutureWarning:arrays to stack must be passed as a \"sequence\" type such as list or tuple. Support for non-sequence iterables such as generators is deprecated as of NumPy 1.16 and will raise an error in the future.\n"
          ]
        }
      ]
    },
    {
      "cell_type": "code",
      "metadata": {
        "colab": {
          "base_uri": "https://localhost:8080/",
          "height": 356
        },
        "id": "9d3cc742",
        "outputId": "d4b4b99c-0ab3-4723-dd6c-ae2c9ccc7c37"
      },
      "source": [
        "class SE3(Group):\n",
        "    def __init__(self,n):\n",
        "        \"\"\"Special Eulcidean Group in 3 dimensions\n",
        "        \"\"\"\n",
        "        assert n==3, 'This is only for SE(3) not %d'%n\n",
        "        self.lie_algebra = np.zeros((3,3,3)) \n",
        "        self.lie_algebra[0,...] = SO(n).lie_algebra[0,...]\n",
        "        self.lie_algebra[1,...] = np.array([[0,0,1],[0,0,0],[0,0,0]])\n",
        "        self.lie_algebra[2,...] = np.array([[0,0,0],[0,0,1],[0,0,0]])\n",
        "        super().__init__(n)\n",
        "\n",
        "G = SE3(3)\n",
        "g = G.sample()\n",
        "v, label = next(iter(dataloaders['train']))\n",
        "v = jnp.asarray(v[0,...]).reshape(100,3)\n",
        "label = label[0]\n",
        "rep_in = 100*V**1\n",
        "\n",
        "rho_v = rep_in(G).rho_dense(g)@v.flatten()\n",
        "rho_v = rho_v.reshape(v.shape)\n",
        "\n",
        "fig, axs = plt.subplots(1,2,figsize=(5*2,5))\n",
        "axs[0].plot(v[:,0],v[:,1], label='original')\n",
        "axs[0].set_title('Original')\n",
        "axs[1].plot(rho_v[:,0], rho_v[:,1], label='transformed')\n",
        "axs[1].set_title('Transformed')\n",
        "fig.suptitle(','.join('%.2f'%(i) for i in label.numpy()))\n",
        "plt.show()"
      ],
      "id": "9d3cc742",
      "execution_count": null,
      "outputs": [
        {
          "output_type": "display_data",
          "data": {
            "image/png": "[encoded data removed]",
            "text/plain": [
              "<Figure size 720x360 with 2 Axes>"
            ]
          },
          "metadata": {
            "needs_background": "light"
          }
        }
      ]
    },
    {
      "cell_type": "code",
      "metadata": {
        "id": "8c56be56"
      },
      "source": [
        "rep_out = 3*V**0\n",
        "#model = EMLP(rep_in,rep_out,group=G,num_layers=1, ch=32)\n",
        "model = MLP(rep_in,rep_out,group=G,num_layers=1, ch=32)"
      ],
      "id": "8c56be56",
      "execution_count": null,
      "outputs": []
    },
    {
      "cell_type": "code",
      "metadata": {
        "id": "28a59618"
      },
      "source": [
        "import jax\n",
        "from objax.functional import softmax\n",
        "\n",
        "\n",
        "@objax.Jit\n",
        "@objax.Function.with_vars(model.vars())\n",
        "def cross_entropy(x,y):\n",
        "    \"\"\" Standard cross-entropy loss \"\"\"\n",
        "    logits = model(x,training=True)\n",
        "    logp = jax.nn.log_softmax(logits)\n",
        "    ll = jnp.take_along_axis(logp, jnp.expand_dims(y, axis=1), axis=1)\n",
        "    ce = -jnp.mean(ll)\n",
        "    return ce\n",
        "\n",
        "@objax.Jit\n",
        "@objax.Function.with_vars(model.vars())\n",
        "def mean_square(x, y):\n",
        "    yhat = model(x)\n",
        "    return ((yhat-y)**2).mean()\n",
        "\n",
        "\n",
        "loss = lambda x,y : mean_square(x,y)\n",
        "\n",
        "opt = objax.optimizer.Adam(model.vars())\n",
        "\n",
        "grad_and_val = objax.GradValues(loss, model.vars())\n",
        "\n",
        "@objax.Jit\n",
        "@objax.Function.with_vars(model.vars()+opt.vars())\n",
        "def train_op(x, y, lr):\n",
        "    g, v = grad_and_val(x, y)\n",
        "    opt(lr=lr, grads=g)\n",
        "    return v\n",
        "    "
      ],
      "id": "28a59618",
      "execution_count": null,
      "outputs": []
    },
    {
      "cell_type": "code",
      "metadata": {
        "scrolled": false,
        "colab": {
          "base_uri": "https://localhost:8080/",
          "height": 49,
          "referenced_widgets": [
            "97ec8a8e1db94bcbb0fca0adf864b023",
            "9172bc8c3f824e53af53660263926223",
            "cca1c5d43f8b4690b77260c6c265d7fc",
            "6fa448834453410081366d90135b6197",
            "4c8dd5a8d3754a8ca9938f6831d64cff",
            "f41433ae343242be8785fac4f778e948",
            "241d81dd9b82429199f5ba088151b2cb",
            "67b3edfcbcc94966851999f7a32a2c7c",
            "07433a837cf94712bca31ceb9dae4206",
            "b7235e4d91d44bc68dbaf96022d9c16a",
            "072168ff262645be93b47d8e208bbce3"
          ]
        },
        "id": "e32ee1da",
        "outputId": "2926d568-4946-4f75-845d-f70a34628de6"
      },
      "source": [
        "test_losses = []\n",
        "train_losses = []\n",
        "for epoch in tqdm(range(NUM_EPOCHS)):\n",
        "    train_losses.append(np.mean([train_op(jnp.array(x),jnp.array(y),ALPHA) for (x,y) in dataloaders['train']]))\n",
        "    if not epoch%10:\n",
        "        test_losses.append(np.mean([loss(jnp.array(x),jnp.array(y)) for (x,y) in dataloaders['test']]))"
      ],
      "id": "e32ee1da",
      "execution_count": null,
      "outputs": [
        {
          "output_type": "display_data",
          "data": {
            "application/vnd.jupyter.widget-view+json": {
              "model_id": "97ec8a8e1db94bcbb0fca0adf864b023",
              "version_minor": 0,
              "version_major": 2
            },
            "text/plain": [
              "  0%|          | 0/500 [00:00<?, ?it/s]"
            ]
          },
          "metadata": {}
        }
      ]
    },
    {
      "cell_type": "code",
      "metadata": {
        "colab": {
          "base_uri": "https://localhost:8080/",
          "height": 265
        },
        "id": "12d46279",
        "outputId": "718aea72-776e-4cb7-c8fe-1ea9070e85e4"
      },
      "source": [
        "plt.plot(np.arange(NUM_EPOCHS),train_losses,label='Train loss')\n",
        "plt.plot(np.arange(0,NUM_EPOCHS,10),test_losses,label='Test loss')\n",
        "plt.legend()\n",
        "plt.yscale('log')"
      ],
      "id": "12d46279",
      "execution_count": null,
      "outputs": [
        {
          "output_type": "display_data",
          "data": {
            "image/png": "[encoded data removed]",
            "text/plain": [
              "<Figure size 432x288 with 1 Axes>"
            ]
          },
          "metadata": {
            "needs_background": "light"
          }
        }
      ]
    },
    {
      "cell_type": "code",
      "metadata": {
        "colab": {
          "base_uri": "https://localhost:8080/"
        },
        "id": "3aa2f98e",
        "outputId": "9d27b493-8b7c-4afb-eb44-e6fc93771afd"
      },
      "source": [
        "p0 = dataloaders['train'].dataset.generate(1,0.3,0.1)\n",
        "pt = dataloaders['train'].dataset.generate(1,0.5,0.1)\n",
        "print('Predictions for \\np0 : ', model(jnp.asarray(p0)), '\\npt : ', model(jnp.asarray(pt)))"
      ],
      "id": "3aa2f98e",
      "execution_count": null,
      "outputs": [
        {
          "output_type": "stream",
          "name": "stdout",
          "text": [
            "Predictions for \n",
            "p0 :  [1.0932606  0.24971734 0.17106172] \n",
            "pt :  [0.83721566 0.51818705 0.08178232]\n"
          ]
        }
      ]
    },
    {
      "cell_type": "code",
      "metadata": {
        "id": "0c8e36a0"
      },
      "source": [
        ""
      ],
      "id": "0c8e36a0",
      "execution_count": null,
      "outputs": []
    }
  ]
}